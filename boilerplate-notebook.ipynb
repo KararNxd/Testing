{
 "cells": [
  {
   "cell_type": "code",
   "execution_count": 0,
   "metadata": {
    "application/vnd.databricks.v1+cell": {
     "cellMetadata": {
      "byteLimit": 2048000,
      "rowLimit": 10000
     },
     "inputWidgets": {},
     "nuid": "e94f5174-76e2-4380-a4f3-e816b0e241b7",
     "showTitle": false,
     "title": ""
    }
   },
   "outputs": [],
   "source": [
    "SCOPE = dbutils.secrets.get(scope=\"boilerplate\",key=\"kararSecretkey\")\n",
    "STORAGE = \"fs.azure.account.key.kararstorageaccount1.dfs.core.windows.net\"\n",
    "CONTAINER_BOILERPLATE = \"abfss://raw@kararstorageaccount1.dfs.core.windows.net\"\n",
    "spark.conf.set(STORAGE,SCOPE)"
   ]
  },
  {
   "cell_type": "code",
   "execution_count": 0,
   "metadata": {
    "application/vnd.databricks.v1+cell": {
     "cellMetadata": {
      "byteLimit": 2048000,
      "rowLimit": 10000
     },
     "inputWidgets": {},
     "nuid": "680e5cf5-689a-4824-a8bf-566679978eca",
     "showTitle": false,
     "title": ""
    }
   },
   "outputs": [
    {
     "output_type": "stream",
     "name": "stdout",
     "output_type": "stream",
     "text": [
      "Out[4]: DataFrame[id: int, first_name: string, last_name: string, email: string, gender: string, ip_address: string]"
     ]
    }
   ],
   "source": [
    "df = spark.read.csv(CONTAINER_BOILERPLATE+\"/Input/MOCK_DATA.csv\",header=True,inferSchema=True)\n",
    "df"
   ]
  },
  {
   "cell_type": "code",
   "execution_count": 0,
   "metadata": {
    "application/vnd.databricks.v1+cell": {
     "cellMetadata": {
      "byteLimit": 2048000,
      "rowLimit": 10000
     },
     "inputWidgets": {},
     "nuid": "5d7a2767-944c-4e40-8268-97f115ea13c9",
     "showTitle": false,
     "title": ""
    }
   },
   "outputs": [
    {
     "output_type": "stream",
     "name": "stdout",
     "output_type": "stream",
     "text": [
      "+---+----------+----------+--------------------+--------+---------------+\n| id|first_name| last_name|               email|  gender|     ip_address|\n+---+----------+----------+--------------------+--------+---------------+\n|  1|   Lurette|    Syddon|       lsyddon0@t.co|  Female|  114.129.17.93|\n|  2|    Harlen|    Gomery|hgomery1@blinklis...|    Male| 247.104.20.230|\n|  3|    Wilmer|    Kupper|wkupper2@yolasite...|    Male|   59.52.146.54|\n|  4|       Lee|  Gaskarth|   lgaskarth3@hp.com|  Female|    0.125.0.207|\n|  5|      Abby|     Saker|   asaker4@upenn.edu|    Male|  185.96.186.71|\n|  6|     Berty|Gilffillan|bgilffillan5@scie...|    Male|   81.36.247.87|\n|  7|  Karlotta|   Brizell|kbrizell6@yolasit...|  Female|  144.175.53.75|\n|  8|      Anne|     Caban|      acaban7@hp.com|  Female|  182.245.38.64|\n|  9|     Ambur|   Larkkem|     alarkkem8@ow.ly|  Female|  248.10.169.93|\n| 10|     Teena|   Benduhn|tbenduhn9@netscap...|  Female|161.199.216.221|\n| 11|    Arturo|      Ende|     aendea@ucla.edu|    Male|  111.16.108.77|\n| 12|      Mufi| Smittoune|msmittouneb@theti...|  Female|   199.9.145.21|\n| 13|    Sharai| Deschelle|sdeschellec@discu...|  Female| 216.40.137.211|\n| 14|      Marc|      Orts|       mortsd@un.org|    Male|  88.171.174.81|\n| 15|     Salim|    Lamdin| slamdine@sfgate.com|    Male| 24.129.159.130|\n| 16|Cristionna| Adamovicz|cadamoviczf@feedb...|  Female| 190.61.109.241|\n| 17|    Isiahi|   Hughill|ihughillg@dedecms...|Bigender|   27.92.25.138|\n| 18|   Diandra|   Goricke|dgorickeh@delicio...|  Female| 41.198.255.110|\n| 19|    Angeli|      Munt|   amunti@ustream.tv|    Male|209.102.250.221|\n| 20|    Boycie|    Feasey| bfeaseyj@forbes.com|    Male|  138.46.178.13|\n+---+----------+----------+--------------------+--------+---------------+\nonly showing top 20 rows\n\n"
     ]
    }
   ],
   "source": [
    "df.show()"
   ]
  },
  {
   "cell_type": "code",
   "execution_count": 0,
   "metadata": {
    "application/vnd.databricks.v1+cell": {
     "cellMetadata": {
      "byteLimit": 2048000,
      "rowLimit": 10000
     },
     "inputWidgets": {},
     "nuid": "9361c6c6-b3ab-4c4e-92e1-5f4bf1f6ee9d",
     "showTitle": false,
     "title": ""
    }
   },
   "outputs": [],
   "source": [
    "df.write.format(\"csv\").save(CONTAINER_BOILERPLATE+\"/Output/\",mode=\"overwrite\")"
   ]
  },
  {
   "cell_type": "code",
   "execution_count": 0,
   "metadata": {
    "application/vnd.databricks.v1+cell": {
     "cellMetadata": {},
     "inputWidgets": {},
     "nuid": "bc00ab3b-6903-4af0-844c-baceb52e9804",
     "showTitle": false,
     "title": ""
    }
   },
   "outputs": [],
   "source": []
  }
 ],
 "metadata": {
  "application/vnd.databricks.v1+notebook": {
   "dashboards": [],
   "language": "python",
   "notebookMetadata": {
    "pythonIndentUnit": 4
   },
   "notebookName": "boilerplate-notebook",
   "notebookOrigID": 2387364435797144,
   "widgets": {}
  }
 },
 "nbformat": 4,
 "nbformat_minor": 0
}
